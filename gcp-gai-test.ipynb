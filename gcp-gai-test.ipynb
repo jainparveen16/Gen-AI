{
 "cells": [
  {
   "cell_type": "code",
   "execution_count": 5,
   "metadata": {},
   "outputs": [],
   "source": [
    "# set env variables for windows\n",
    "import os\n",
    "os.getcwd()\n",
    "os.environ['GOOGLE_APPLICATION_CREDENTIALS']='C:\\\\work\\\\projects\\\\GCP-GAI\\\\doc\\\\gai87546-4b61133715b1.json'\n"
   ]
  },
  {
   "cell_type": "code",
   "execution_count": 6,
   "metadata": {},
   "outputs": [],
   "source": [
    "# install libs\n",
    "#!pip install --upgrade google-cloud-aiplatform\n"
   ]
  },
  {
   "cell_type": "code",
   "execution_count": 7,
   "metadata": {},
   "outputs": [],
   "source": [
    "from google.cloud import aiplatform\n",
    "import vertexai\n"
   ]
  },
  {
   "cell_type": "code",
   "execution_count": 8,
   "metadata": {},
   "outputs": [
    {
     "data": {
      "text/plain": [
       " Machine learning is a subfield of artificial intelligence that gives computers the ability to learn without being explicitly programmed"
      ]
     },
     "execution_count": 8,
     "metadata": {},
     "output_type": "execute_result"
    }
   ],
   "source": [
    "from vertexai.language_models import ChatModel\n",
    "model_name = 'chat-bison'\n",
    "model = ChatModel.from_pretrained(model_name)\n",
    "context = 'you are a personal tutor for a math professors'\n",
    "chat = model.start_chat(context=context)\n",
    "chat.send_message(\"what is machine learning?\", max_output_tokens=20)\n"
   ]
  },
  {
   "cell_type": "code",
   "execution_count": 9,
   "metadata": {},
   "outputs": [
    {
     "data": {
      "text/plain": [
       " Subject: Reporting Technical Issues - SAAS Dashboard Functionality\n",
       "\n",
       "Dear Customer Support Team,\n",
       "\n",
       "I hope this message finds you well. I am writing to report a technical issue that I have encountered while using your SAAS dashboard product. As a loyal customer, I appreciate the value that your product brings to my business, but I am currently facing a challenge that requires your expertise.\n",
       "\n",
       "I would like to detail the issues I am experiencing:\n",
       "\n",
       "1. Graphical Issue: Upon logging into the SAAS dashboard, I have noticed that the graphs and charts on the dashboard's main page are not rendering properly. Data points appear distorted, and some elements"
      ]
     },
     "execution_count": 9,
     "metadata": {},
     "output_type": "execute_result"
    }
   ],
   "source": [
    "from vertexai.language_models import TextGenerationModel\n",
    "model_name = 'text-bison'\n",
    "model = TextGenerationModel.from_pretrained(model_name)\n",
    "spanish_email = open('spanish-customer-support-email.txt', encoding='utf-8').read()\n",
    "spanish_email\n",
    "prompt = f\"english tranlation of tis email:\\n{spanish_email}\"\n",
    "eng_email= model.predict(prompt)\n",
    "eng_email"
   ]
  },
  {
   "cell_type": "code",
   "execution_count": 10,
   "metadata": {},
   "outputs": [
    {
     "data": {
      "text/plain": [
       " **Machine Learning for CEOs: A Guide for Business Leaders**\n",
       "\n",
       "Machine learning (ML) is a rapidly growing field that has the potential to revolutionize many industries. By using ML, businesses can automate tasks, improve decision-making, and create new products and services.\n",
       "\n",
       "For CEOs, it is important to understand the basics of ML and how it can be used to benefit their businesses. This guide will provide you with a high-level overview of ML and its potential applications in the business world.\n",
       "\n",
       "**What is Machine Learning?**\n",
       "\n",
       "Machine learning is a type of artificial intelligence (AI) that allows computers to learn without being explicitly"
      ]
     },
     "execution_count": 10,
     "metadata": {},
     "output_type": "execute_result"
    }
   ],
   "source": [
    "# text generation\n",
    "from vertexai.language_models import TextGenerationModel\n",
    "model_name = 'text-bison'\n",
    "model = TextGenerationModel.from_pretrained(model_name)\n",
    "response = model.predict(prompt='para on machine learning for ceo')\n",
    "response"
   ]
  },
  {
   "cell_type": "code",
   "execution_count": 14,
   "metadata": {},
   "outputs": [
    {
     "data": {
      "text/plain": [
       " **Day 1: Arrival in Rome**\n",
       "\n",
       "* Arrive at Rome's Fiumicino Airport (FCO) and take the Leonardo Express train to Termini Station.\n",
       "* Check in to your hotel in the city center.\n",
       "* Enjoy a leisurely dinner at a traditional Italian restaurant.\n",
       "\n",
       "**Day 2: Ancient Rome**\n",
       "\n",
       "* Visit the Colosseum, the largest amphitheater ever built.\n",
       "* Explore the Roman Forum, the center of ancient Roman life.\n",
       "* See the Palatine Hill, where the wealthy Romans built their homes.\n",
       "\n",
       "**Day 3: Vatican City**\n",
       "\n",
       "* Visit the Vatican City, the smallest country in the world.\n",
       "* See the Sistine Chapel, Michelangelo's masterpiece.\n",
       "* Visit St. Peter's Basilica, the largest church in the world.\n",
       "\n",
       "**Day 4: Trastevere**\n",
       "\n",
       "* Explore the Trastevere neighborhood, known for its lively atmosphere and traditional Roman cuisine.\n",
       "* Visit the Piazza Navona, one of the most beautiful squares in Rome.\n",
       "* Enjoy a gelato at one of the many gelaterias in the area.\n",
       "\n",
       "**Day 5: Day Trip to Pompeii**\n",
       "\n",
       "* Take a day trip to Pompeii, an ancient Roman city that was buried by a volcanic eruption in 79 AD.\n",
       "* Explore the ruins of the city, including the baths, temples, and theaters.\n",
       "* Learn about the lives of the people who lived in Pompeii before the eruption.\n",
       "\n",
       "**Day 6: Departure**\n",
       "\n",
       "* Check out of your hotel and take the Leonardo Express train back to Fiumicino Airport (FCO).\n",
       "* Depart from Rome."
      ]
     },
     "execution_count": 14,
     "metadata": {},
     "output_type": "execute_result"
    }
   ],
   "source": [
    "from vertexai.language_models import TextGenerationModel, ChatModel\n",
    "model_name = 'text-bison'\n",
    "model = TextGenerationModel.from_pretrained(model_name)\n",
    "#model.predict(prompt='write a long anf funny poem on cat', max_output_tokens=20)\n",
    "#prompt = \"continue this story:'I was walking and then most peculiar things happened...'\"\n",
    "#model.predict(prompt=prompt, max_output_tokens=1000, temperature=1.0)\n",
    "prompt = \"Plan a trip to Rome'\"\n",
    "model.predict(prompt=prompt, max_output_tokens=1024, temperature=0.1,top_p=0.1)\n",
    "\n",
    "#top_k,top_p, temperature, max_output_tokens, Stop_sequences[]"
   ]
  },
  {
   "cell_type": "code",
   "execution_count": 12,
   "metadata": {},
   "outputs": [
    {
     "data": {
      "text/plain": [
       " 1. Apple\n",
       "2. Orange\n",
       "3. Banana"
      ]
     },
     "execution_count": 12,
     "metadata": {},
     "output_type": "execute_result"
    }
   ],
   "source": [
    "# one shot and multishot\n",
    "from vertexai.language_models import TextGenerationModel, ChatModel\n",
    "model_name = 'text-bison'\n",
    "model = TextGenerationModel.from_pretrained(model_name)\n",
    "prompt = ''' given a category create a list of 3 examples.\n",
    "input: car\n",
    "output: 1. Tesla 2. Toyota 3. Pontiac\n",
    "input: fruits\n",
    "output: \n",
    "'''\n",
    "model.predict(prompt=prompt, stop_sequences=['input:'])\n"
   ]
  },
  {
   "cell_type": "code",
   "execution_count": 20,
   "metadata": {},
   "outputs": [
    {
     "name": "stdout",
     "output_type": "stream",
     "text": [
      "Response from Model:  **Vegetables:**\n",
      "\n",
      "1. Asparagus\n",
      "2. Bell peppers\n",
      "\n"
     ]
    }
   ],
   "source": [
    "import vertexai\n",
    "from vertexai.language_models import TextGenerationModel\n",
    "\n",
    "vertexai.init(project=\"gai87546\", location=\"us-central1\")\n",
    "parameters = {\n",
    "    \"candidate_count\": 1,\n",
    "    \"max_output_tokens\": 1024,\n",
    "    \"temperature\": 0.2,\n",
    "    \"top_p\": 0.8,\n",
    "    \"top_k\": 40,\n",
    "    \"stop_sequences\":['3']\n",
    "}\n",
    "model = TextGenerationModel.from_pretrained(\"text-bison\")\n",
    "response = model.predict(\n",
    "    \"\"\"list of vegitables i =n list of numbers as 1 , 2 ,3\"\"\",\n",
    "    **parameters\n",
    ")\n",
    "print(f\"Response from Model: {response.text}\")"
   ]
  },
  {
   "cell_type": "code",
   "execution_count": null,
   "metadata": {},
   "outputs": [],
   "source": []
  }
 ],
 "metadata": {
  "kernelspec": {
   "display_name": "Python 3",
   "language": "python",
   "name": "python3"
  },
  "language_info": {
   "codemirror_mode": {
    "name": "ipython",
    "version": 3
   },
   "file_extension": ".py",
   "mimetype": "text/x-python",
   "name": "python",
   "nbconvert_exporter": "python",
   "pygments_lexer": "ipython3",
   "version": "3.11.6"
  }
 },
 "nbformat": 4,
 "nbformat_minor": 2
}
