{
 "cells": [
  {
   "cell_type": "code",
   "execution_count": 1,
   "metadata": {},
   "outputs": [],
   "source": [
    "import os\n",
    "os.getcwd()\n",
    "p = 'c:\\\\Users\\\\jainp\\\\Downloads\\\\'\n",
    "os.environ['GOOGLE_APPLICATION_CREDENTIALS']='C:\\\\work\\\\projects\\\\GCP-GAI\\\\doc\\\\gai87546-4b61133715b1.json'\n",
    "\n"
   ]
  },
  {
   "cell_type": "code",
   "execution_count": 2,
   "metadata": {},
   "outputs": [
    {
     "data": {
      "text/plain": [
       " विषय: तकनीकी समस्या रिपोर्ट - SAAS डैशबोर्ड कार्यक्षमता\n",
       "\n",
       "प्रिय ग्राहक सहायता टीम,\n",
       "\n",
       "मुझे आशा है कि यह संदेश आपको अच्छी तरह से प्राप्त होगा। मैं आपको SAAS डैशबोर्ड उत्पाद का उपयोग करते समय मुझे मिली एक तकनीकी समस्या की सूचना देने के लिए लिख रहा हूं। एक वफादार ग्राहक के रूप में, मैं आपके उत्पाद द्वारा मेरे व्यवसाय में लाए गए मूल्य की सराहना करता हूं, लेकिन वर्तमान में मैं एक ऐसी चुनौती का सामना"
      ]
     },
     "execution_count": 2,
     "metadata": {},
     "output_type": "execute_result"
    }
   ],
   "source": [
    "\n",
    "from vertexai.language_models import TextGenerationModel\n",
    "model_name = 'text-bison'\n",
    "model = TextGenerationModel.from_pretrained(model_name)\n",
    "spanish_email = open('spanish-customer-support-email.txt', encoding='utf-8').read()\n",
    "spanish_email\n",
    "prompt = f\"hindi tranlation of tis email:\\n{spanish_email}\"\n",
    "eng_email= model.predict(prompt)\n",
    "eng_email\n"
   ]
  },
  {
   "cell_type": "code",
   "execution_count": 3,
   "metadata": {},
   "outputs": [
    {
     "data": {
      "text/plain": [
       " कर रहा हूं जो मेरी उत्पादकता को प्रभावित कर रही है।\n",
       "\n",
       "समस्या यह है कि SAAS डैशबोर्ड अक्सर लोड होने में धीमा होता है, जिससे मुझे आवश्यक डेटा तक पहुंचने में देरी होती है। इसके अतिरिक्त, डैशबोर्ड कभी-कभी क्रैश हो जाता है, जिससे मुझे अपना काम बीच में ही छोड़ना पड़ता है। मैंने अपने इंटरनेट कनेक्शन और ब्राउज़र सेटिंग्स की जाँच की है, लेकिन समस्या बनी हुई है।\n",
       "\n",
       "मैं आपसे अनुरोध करता हूं कि कृपया इस समस्या को देखने और इसे जल्द से जल्द ठीक करने के लिए आवश्यक कदम उठाएं। मैं आपके सहयोग के लिए अग्रिम धन्यवाद देता हूं।\n",
       "\n",
       "सादर,\n",
       "[Your Name]"
      ]
     },
     "execution_count": 3,
     "metadata": {},
     "output_type": "execute_result"
    }
   ],
   "source": [
    "suggestion_prompt = f\"please give a list of suggestions to address the issue inthe email:\\n\\n{eng_email.text}\"\n",
    "model.predict(suggestion_prompt, max_output_tokens=2048, temperature=0)\n",
    "\n",
    "summary_prompt = f\"create a 5 sentence summary of below email:\\n\\n{eng_email.text}\"\n",
    "model.predict(summary_prompt, max_output_tokens=2048, temperature=0)\n"
   ]
  },
  {
   "cell_type": "code",
   "execution_count": null,
   "metadata": {},
   "outputs": [],
   "source": []
  }
 ],
 "metadata": {
  "kernelspec": {
   "display_name": "Python 3",
   "language": "python",
   "name": "python3"
  },
  "language_info": {
   "codemirror_mode": {
    "name": "ipython",
    "version": 3
   },
   "file_extension": ".py",
   "mimetype": "text/x-python",
   "name": "python",
   "nbconvert_exporter": "python",
   "pygments_lexer": "ipython3",
   "version": "3.11.6"
  }
 },
 "nbformat": 4,
 "nbformat_minor": 2
}
